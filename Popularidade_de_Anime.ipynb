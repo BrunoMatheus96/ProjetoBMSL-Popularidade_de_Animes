{
 "cells": [
  {
   "cell_type": "markdown",
   "metadata": {},
   "source": [
    "# Problema de Negócio:\n",
    "\n",
    "📝Quais gêneros de animes tendem a receber notas mais altas?"
   ]
  },
  {
   "cell_type": "markdown",
   "metadata": {},
   "source": [
    "# Importando Libs"
   ]
  },
  {
   "cell_type": "code",
   "execution_count": 234,
   "metadata": {},
   "outputs": [],
   "source": [
    "import pandas as pd\n",
    "import numpy as np\n",
    "import seaborn as sns\n",
    "import matplotlib.pyplot as plt\n",
    "import re"
   ]
  },
  {
   "cell_type": "markdown",
   "metadata": {},
   "source": [
    "# Carregando Dataset"
   ]
  },
  {
   "cell_type": "code",
   "execution_count": 235,
   "metadata": {},
   "outputs": [],
   "source": [
    "anime = pd.read_csv(\"animes.csv\")\n"
   ]
  },
  {
   "cell_type": "markdown",
   "metadata": {},
   "source": [
    "# Analisando os Dados"
   ]
  },
  {
   "cell_type": "code",
   "execution_count": 236,
   "metadata": {},
   "outputs": [
    {
     "data": {
      "text/plain": [
       "(15262, 27)"
      ]
     },
     "execution_count": 236,
     "metadata": {},
     "output_type": "execute_result"
    }
   ],
   "source": [
    "anime.shape"
   ]
  },
  {
   "cell_type": "code",
   "execution_count": 237,
   "metadata": {},
   "outputs": [
    {
     "data": {
      "text/html": [
       "<div>\n",
       "<style scoped>\n",
       "    .dataframe tbody tr th:only-of-type {\n",
       "        vertical-align: middle;\n",
       "    }\n",
       "\n",
       "    .dataframe tbody tr th {\n",
       "        vertical-align: top;\n",
       "    }\n",
       "\n",
       "    .dataframe thead th {\n",
       "        text-align: right;\n",
       "    }\n",
       "</style>\n",
       "<table border=\"1\" class=\"dataframe\">\n",
       "  <thead>\n",
       "    <tr style=\"text-align: right;\">\n",
       "      <th></th>\n",
       "      <th>Japanese</th>\n",
       "      <th>Type</th>\n",
       "      <th>Episodes</th>\n",
       "      <th>Status</th>\n",
       "      <th>Aired</th>\n",
       "      <th>Premiered</th>\n",
       "      <th>Producers</th>\n",
       "      <th>Licensors</th>\n",
       "      <th>Studios</th>\n",
       "      <th>Source</th>\n",
       "      <th>...</th>\n",
       "      <th>Favorites</th>\n",
       "      <th>description</th>\n",
       "      <th>Name</th>\n",
       "      <th>English Name</th>\n",
       "      <th>Recommended</th>\n",
       "      <th>Mixed Feelings</th>\n",
       "      <th>Not Recommended</th>\n",
       "      <th>Themes</th>\n",
       "      <th>Demographics</th>\n",
       "      <th>Seasonal</th>\n",
       "    </tr>\n",
       "  </thead>\n",
       "  <tbody>\n",
       "    <tr>\n",
       "      <th>0</th>\n",
       "      <td>葬送のフリーレン</td>\n",
       "      <td>TV</td>\n",
       "      <td>28</td>\n",
       "      <td>Finished Airing</td>\n",
       "      <td>Sep 29, 2023 to Mar 22, 2024</td>\n",
       "      <td>Fall 2023</td>\n",
       "      <td>Aniplex,       Dentsu,       Shogakukan-Shueis...</td>\n",
       "      <td>None found, add some</td>\n",
       "      <td>Madhouse</td>\n",
       "      <td>Manga</td>\n",
       "      <td>...</td>\n",
       "      <td>43111</td>\n",
       "      <td>During their decade-long quest to defeat the D...</td>\n",
       "      <td>Sousou no Frieren</td>\n",
       "      <td>Frieren: Beyond Journey's End</td>\n",
       "      <td>493</td>\n",
       "      <td>67</td>\n",
       "      <td>42</td>\n",
       "      <td>['Unknown-Themes']</td>\n",
       "      <td>['Shounen']</td>\n",
       "      <td>False</td>\n",
       "    </tr>\n",
       "    <tr>\n",
       "      <th>1</th>\n",
       "      <td>鋼の錬金術師 FULLMETAL ALCHEMIST</td>\n",
       "      <td>TV</td>\n",
       "      <td>64</td>\n",
       "      <td>Finished Airing</td>\n",
       "      <td>Apr 5, 2009 to Jul 4, 2010</td>\n",
       "      <td>Spring 2009</td>\n",
       "      <td>Aniplex,       Square Enix,       Mainichi Bro...</td>\n",
       "      <td>Funimation,       Aniplex of America</td>\n",
       "      <td>Bones</td>\n",
       "      <td>Manga</td>\n",
       "      <td>...</td>\n",
       "      <td>226182</td>\n",
       "      <td>After a horrific alchemy experiment goes wrong...</td>\n",
       "      <td>Fullmetal Alchemist: Brotherhood</td>\n",
       "      <td>NaN</td>\n",
       "      <td>912</td>\n",
       "      <td>59</td>\n",
       "      <td>39</td>\n",
       "      <td>['Military']</td>\n",
       "      <td>['Shounen']</td>\n",
       "      <td>False</td>\n",
       "    </tr>\n",
       "    <tr>\n",
       "      <th>2</th>\n",
       "      <td>STEINS;GATE</td>\n",
       "      <td>TV</td>\n",
       "      <td>24</td>\n",
       "      <td>Finished Airing</td>\n",
       "      <td>Apr 6, 2011 to Sep 14, 2011</td>\n",
       "      <td>Spring 2011</td>\n",
       "      <td>Frontier Works,       Media Factory,       Kad...</td>\n",
       "      <td>Funimation</td>\n",
       "      <td>White Fox</td>\n",
       "      <td>Visual novel</td>\n",
       "      <td>...</td>\n",
       "      <td>189734</td>\n",
       "      <td>Eccentric scientist Rintarou Okabe has a never...</td>\n",
       "      <td>Steins;Gate</td>\n",
       "      <td>NaN</td>\n",
       "      <td>1006</td>\n",
       "      <td>73</td>\n",
       "      <td>73</td>\n",
       "      <td>['Psychological', 'TimeTravel']</td>\n",
       "      <td>['Unknown-Demographic']</td>\n",
       "      <td>True</td>\n",
       "    </tr>\n",
       "    <tr>\n",
       "      <th>3</th>\n",
       "      <td>銀魂°</td>\n",
       "      <td>TV</td>\n",
       "      <td>51</td>\n",
       "      <td>Finished Airing</td>\n",
       "      <td>Apr 8, 2015 to Mar 30, 2016</td>\n",
       "      <td>Spring 2015</td>\n",
       "      <td>TV Tokyo,       Aniplex,       Dentsu</td>\n",
       "      <td>Funimation,       Crunchyroll</td>\n",
       "      <td>Bandai Namco Pictures</td>\n",
       "      <td>Manga</td>\n",
       "      <td>...</td>\n",
       "      <td>16680</td>\n",
       "      <td>Gintoki, Shinpachi, and Kagura return as the f...</td>\n",
       "      <td>Gintama°</td>\n",
       "      <td>Gintama Season 4</td>\n",
       "      <td>79</td>\n",
       "      <td>3</td>\n",
       "      <td>1</td>\n",
       "      <td>['GagHumor', 'Historical', 'Parody', 'Samurai']</td>\n",
       "      <td>['Shounen']</td>\n",
       "      <td>False</td>\n",
       "    </tr>\n",
       "    <tr>\n",
       "      <th>4</th>\n",
       "      <td>進撃の巨人 Season3 Part.2</td>\n",
       "      <td>TV</td>\n",
       "      <td>10</td>\n",
       "      <td>Finished Airing</td>\n",
       "      <td>Apr 29, 2019 to Jul 1, 2019</td>\n",
       "      <td>Spring 2019</td>\n",
       "      <td>Production I.G,       Dentsu,       Mainichi B...</td>\n",
       "      <td>Funimation</td>\n",
       "      <td>Wit Studio</td>\n",
       "      <td>Manga</td>\n",
       "      <td>...</td>\n",
       "      <td>58793</td>\n",
       "      <td>Seeking to restore humanity's diminishing hope...</td>\n",
       "      <td>Shingeki no Kyojin Season 3 Part 2</td>\n",
       "      <td>Attack on Titan Season 3 Part 2</td>\n",
       "      <td>198</td>\n",
       "      <td>9</td>\n",
       "      <td>11</td>\n",
       "      <td>['Gore', 'Military', 'Survival']</td>\n",
       "      <td>['Shounen']</td>\n",
       "      <td>True</td>\n",
       "    </tr>\n",
       "  </tbody>\n",
       "</table>\n",
       "<p>5 rows × 27 columns</p>\n",
       "</div>"
      ],
      "text/plain": [
       "                     Japanese Type Episodes           Status  \\\n",
       "0                    葬送のフリーレン   TV       28  Finished Airing   \n",
       "1  鋼の錬金術師 FULLMETAL ALCHEMIST   TV       64  Finished Airing   \n",
       "2                 STEINS;GATE   TV       24  Finished Airing   \n",
       "3                         銀魂°   TV       51  Finished Airing   \n",
       "4        進撃の巨人 Season3 Part.2   TV       10  Finished Airing   \n",
       "\n",
       "                          Aired    Premiered  \\\n",
       "0  Sep 29, 2023 to Mar 22, 2024    Fall 2023   \n",
       "1    Apr 5, 2009 to Jul 4, 2010  Spring 2009   \n",
       "2   Apr 6, 2011 to Sep 14, 2011  Spring 2011   \n",
       "3   Apr 8, 2015 to Mar 30, 2016  Spring 2015   \n",
       "4   Apr 29, 2019 to Jul 1, 2019  Spring 2019   \n",
       "\n",
       "                                           Producers  \\\n",
       "0  Aniplex,       Dentsu,       Shogakukan-Shueis...   \n",
       "1  Aniplex,       Square Enix,       Mainichi Bro...   \n",
       "2  Frontier Works,       Media Factory,       Kad...   \n",
       "3              TV Tokyo,       Aniplex,       Dentsu   \n",
       "4  Production I.G,       Dentsu,       Mainichi B...   \n",
       "\n",
       "                              Licensors                Studios        Source  \\\n",
       "0                  None found, add some               Madhouse         Manga   \n",
       "1  Funimation,       Aniplex of America                  Bones         Manga   \n",
       "2                            Funimation              White Fox  Visual novel   \n",
       "3         Funimation,       Crunchyroll  Bandai Namco Pictures         Manga   \n",
       "4                            Funimation             Wit Studio         Manga   \n",
       "\n",
       "   ... Favorites                                        description  \\\n",
       "0  ...     43111  During their decade-long quest to defeat the D...   \n",
       "1  ...    226182  After a horrific alchemy experiment goes wrong...   \n",
       "2  ...    189734  Eccentric scientist Rintarou Okabe has a never...   \n",
       "3  ...     16680  Gintoki, Shinpachi, and Kagura return as the f...   \n",
       "4  ...     58793  Seeking to restore humanity's diminishing hope...   \n",
       "\n",
       "                                 Name                     English Name  \\\n",
       "0                   Sousou no Frieren    Frieren: Beyond Journey's End   \n",
       "1    Fullmetal Alchemist: Brotherhood                              NaN   \n",
       "2                         Steins;Gate                              NaN   \n",
       "3                            Gintama°                 Gintama Season 4   \n",
       "4  Shingeki no Kyojin Season 3 Part 2  Attack on Titan Season 3 Part 2   \n",
       "\n",
       "   Recommended  Mixed Feelings  Not Recommended  \\\n",
       "0          493              67               42   \n",
       "1          912              59               39   \n",
       "2         1006              73               73   \n",
       "3           79               3                1   \n",
       "4          198               9               11   \n",
       "\n",
       "                                            Themes             Demographics  \\\n",
       "0                               ['Unknown-Themes']              ['Shounen']   \n",
       "1                                     ['Military']              ['Shounen']   \n",
       "2                  ['Psychological', 'TimeTravel']  ['Unknown-Demographic']   \n",
       "3  ['GagHumor', 'Historical', 'Parody', 'Samurai']              ['Shounen']   \n",
       "4                 ['Gore', 'Military', 'Survival']              ['Shounen']   \n",
       "\n",
       "  Seasonal  \n",
       "0    False  \n",
       "1    False  \n",
       "2     True  \n",
       "3    False  \n",
       "4     True  \n",
       "\n",
       "[5 rows x 27 columns]"
      ]
     },
     "execution_count": 237,
     "metadata": {},
     "output_type": "execute_result"
    }
   ],
   "source": [
    "anime.head()"
   ]
  },
  {
   "cell_type": "code",
   "execution_count": 238,
   "metadata": {},
   "outputs": [
    {
     "name": "stdout",
     "output_type": "stream",
     "text": [
      "<class 'pandas.core.frame.DataFrame'>\n",
      "RangeIndex: 15262 entries, 0 to 15261\n",
      "Data columns (total 27 columns):\n",
      " #   Column           Non-Null Count  Dtype  \n",
      "---  ------           --------------  -----  \n",
      " 0   Japanese         15047 non-null  object \n",
      " 1   Type             15262 non-null  object \n",
      " 2   Episodes         15262 non-null  object \n",
      " 3   Status           15262 non-null  object \n",
      " 4   Aired            15262 non-null  object \n",
      " 5   Premiered        5527 non-null   object \n",
      " 6   Producers        15262 non-null  object \n",
      " 7   Licensors        15262 non-null  object \n",
      " 8   Studios          15253 non-null  object \n",
      " 9   Source           15262 non-null  object \n",
      " 10  Genres           15262 non-null  object \n",
      " 11  Duration         15262 non-null  object \n",
      " 12  Rating           15262 non-null  object \n",
      " 13  Score            15262 non-null  float64\n",
      " 14  Ranked           15262 non-null  int64  \n",
      " 15  Popularity       15262 non-null  int64  \n",
      " 16  Members          15262 non-null  int64  \n",
      " 17  Favorites        15262 non-null  int64  \n",
      " 18  description      15262 non-null  object \n",
      " 19  Name             15262 non-null  object \n",
      " 20  English Name     6840 non-null   object \n",
      " 21  Recommended      15262 non-null  int64  \n",
      " 22  Mixed Feelings   15262 non-null  int64  \n",
      " 23  Not Recommended  15262 non-null  int64  \n",
      " 24  Themes           15262 non-null  object \n",
      " 25  Demographics     15262 non-null  object \n",
      " 26  Seasonal         15262 non-null  bool   \n",
      "dtypes: bool(1), float64(1), int64(7), object(18)\n",
      "memory usage: 3.0+ MB\n"
     ]
    }
   ],
   "source": [
    "anime.info()"
   ]
  },
  {
   "cell_type": "markdown",
   "metadata": {},
   "source": [
    "🔎Dectando Valores Duplicados"
   ]
  },
  {
   "cell_type": "code",
   "execution_count": 239,
   "metadata": {},
   "outputs": [
    {
     "data": {
      "text/plain": [
       "3"
      ]
     },
     "execution_count": 239,
     "metadata": {},
     "output_type": "execute_result"
    }
   ],
   "source": [
    "# Verificar se há linhas duplicadas\n",
    "anime.duplicated().sum()"
   ]
  },
  {
   "cell_type": "markdown",
   "metadata": {},
   "source": [
    "🔎Dectando Valores Ausentes"
   ]
  },
  {
   "cell_type": "code",
   "execution_count": 240,
   "metadata": {},
   "outputs": [
    {
     "name": "stdout",
     "output_type": "stream",
     "text": [
      "Premiered          9735\n",
      "English Name       8422\n",
      "Japanese            215\n",
      "Studios               9\n",
      "Popularity            0\n",
      "Demographics          0\n",
      "Themes                0\n",
      "Not Recommended       0\n",
      "Mixed Feelings        0\n",
      "Recommended           0\n",
      "Name                  0\n",
      "description           0\n",
      "Favorites             0\n",
      "Members               0\n",
      "Score                 0\n",
      "Ranked                0\n",
      "Type                  0\n",
      "Rating                0\n",
      "Duration              0\n",
      "Genres                0\n",
      "Source                0\n",
      "Licensors             0\n",
      "Producers             0\n",
      "Aired                 0\n",
      "Status                0\n",
      "Episodes              0\n",
      "Seasonal              0\n",
      "dtype: int64\n"
     ]
    }
   ],
   "source": [
    "valAusentes = anime.isnull().sum().sort_values(ascending = False)\n",
    "\n",
    "print(valAusentes)"
   ]
  },
  {
   "cell_type": "code",
   "execution_count": 241,
   "metadata": {},
   "outputs": [
    {
     "name": "stdout",
     "output_type": "stream",
     "text": [
      "Premiered       63.785873\n",
      "English Name    55.182807\n",
      "Japanese         1.408728\n",
      "Studios          0.058970\n",
      "dtype: float64 %\n"
     ]
    }
   ],
   "source": [
    "# Calculando o percentual de valores ausentes\n",
    "valores_ausentes_percent = valAusentes[valAusentes > 0] / anime.shape[0] \n",
    "\n",
    "print(f'{valores_ausentes_percent * 100} %')"
   ]
  },
  {
   "cell_type": "markdown",
   "metadata": {},
   "source": [
    "> 📄Vamos criar um DataFrame novo e deixar apenas as colunas que precisamos"
   ]
  },
  {
   "cell_type": "code",
   "execution_count": 242,
   "metadata": {},
   "outputs": [
    {
     "data": {
      "text/html": [
       "<div>\n",
       "<style scoped>\n",
       "    .dataframe tbody tr th:only-of-type {\n",
       "        vertical-align: middle;\n",
       "    }\n",
       "\n",
       "    .dataframe tbody tr th {\n",
       "        vertical-align: top;\n",
       "    }\n",
       "\n",
       "    .dataframe thead th {\n",
       "        text-align: right;\n",
       "    }\n",
       "</style>\n",
       "<table border=\"1\" class=\"dataframe\">\n",
       "  <thead>\n",
       "    <tr style=\"text-align: right;\">\n",
       "      <th></th>\n",
       "      <th>Score</th>\n",
       "      <th>Name</th>\n",
       "      <th>Genres</th>\n",
       "    </tr>\n",
       "  </thead>\n",
       "  <tbody>\n",
       "    <tr>\n",
       "      <th>8297</th>\n",
       "      <td>6.231</td>\n",
       "      <td>Kikou Keisatsu Metal Jack</td>\n",
       "      <td>['Action', 'Sci-Fi']</td>\n",
       "    </tr>\n",
       "    <tr>\n",
       "      <th>1914</th>\n",
       "      <td>7.481</td>\n",
       "      <td>Little Busters!</td>\n",
       "      <td>['Comedy', 'Drama', 'Supernatural']</td>\n",
       "    </tr>\n",
       "    <tr>\n",
       "      <th>10890</th>\n",
       "      <td>5.691</td>\n",
       "      <td>Stitch!: Zutto Saikou no Tomodachi Special</td>\n",
       "      <td>['Adventure', 'Comedy']</td>\n",
       "    </tr>\n",
       "    <tr>\n",
       "      <th>927</th>\n",
       "      <td>7.821</td>\n",
       "      <td>Shingeki no Kyojin: Lost Girls</td>\n",
       "      <td>['Action', 'Drama']</td>\n",
       "    </tr>\n",
       "    <tr>\n",
       "      <th>8669</th>\n",
       "      <td>6.151</td>\n",
       "      <td>Benghuai Xinghe</td>\n",
       "      <td>['Action', 'Adventure', 'Sci-Fi']</td>\n",
       "    </tr>\n",
       "    <tr>\n",
       "      <th>2975</th>\n",
       "      <td>7.251</td>\n",
       "      <td>Ijiranaide, Nagatoro-san</td>\n",
       "      <td>['Comedy']</td>\n",
       "    </tr>\n",
       "    <tr>\n",
       "      <th>490</th>\n",
       "      <td>8.101</td>\n",
       "      <td>Akatsuki no Yona OVA</td>\n",
       "      <td>['Action', 'Adventure', 'Fantasy']</td>\n",
       "    </tr>\n",
       "    <tr>\n",
       "      <th>4597</th>\n",
       "      <td>6.911</td>\n",
       "      <td>Vanitas no Karte: En Route Pour le Gévaudan</td>\n",
       "      <td>['Action', 'Fantasy', 'Mystery']</td>\n",
       "    </tr>\n",
       "    <tr>\n",
       "      <th>12768</th>\n",
       "      <td>4.911</td>\n",
       "      <td>Sekai ga Horobiru Mae ni Kimi ni Aitai</td>\n",
       "      <td>['Drama', 'Romance', 'Sci-Fi']</td>\n",
       "    </tr>\n",
       "    <tr>\n",
       "      <th>6930</th>\n",
       "      <td>6.471</td>\n",
       "      <td>Shukufuku no Campanella: La Campanella Della B...</td>\n",
       "      <td>['Comedy', 'Fantasy', 'Ecchi']</td>\n",
       "    </tr>\n",
       "  </tbody>\n",
       "</table>\n",
       "</div>"
      ],
      "text/plain": [
       "       Score                                               Name  \\\n",
       "8297   6.231                          Kikou Keisatsu Metal Jack   \n",
       "1914   7.481                                    Little Busters!   \n",
       "10890  5.691         Stitch!: Zutto Saikou no Tomodachi Special   \n",
       "927    7.821                     Shingeki no Kyojin: Lost Girls   \n",
       "8669   6.151                                    Benghuai Xinghe   \n",
       "2975   7.251                           Ijiranaide, Nagatoro-san   \n",
       "490    8.101                               Akatsuki no Yona OVA   \n",
       "4597   6.911        Vanitas no Karte: En Route Pour le Gévaudan   \n",
       "12768  4.911             Sekai ga Horobiru Mae ni Kimi ni Aitai   \n",
       "6930   6.471  Shukufuku no Campanella: La Campanella Della B...   \n",
       "\n",
       "                                    Genres  \n",
       "8297                  ['Action', 'Sci-Fi']  \n",
       "1914   ['Comedy', 'Drama', 'Supernatural']  \n",
       "10890              ['Adventure', 'Comedy']  \n",
       "927                    ['Action', 'Drama']  \n",
       "8669     ['Action', 'Adventure', 'Sci-Fi']  \n",
       "2975                            ['Comedy']  \n",
       "490     ['Action', 'Adventure', 'Fantasy']  \n",
       "4597      ['Action', 'Fantasy', 'Mystery']  \n",
       "12768       ['Drama', 'Romance', 'Sci-Fi']  \n",
       "6930        ['Comedy', 'Fantasy', 'Ecchi']  "
      ]
     },
     "execution_count": 242,
     "metadata": {},
     "output_type": "execute_result"
    }
   ],
   "source": [
    "df_anime = anime[['Score', 'Name', 'Genres']]\n",
    "\n",
    "df_anime.sample(10)"
   ]
  },
  {
   "cell_type": "markdown",
   "metadata": {},
   "source": [
    "🔎Verificando se tem valores nulos no novo DataFrame"
   ]
  },
  {
   "cell_type": "code",
   "execution_count": 243,
   "metadata": {},
   "outputs": [
    {
     "name": "stdout",
     "output_type": "stream",
     "text": [
      "Score     0\n",
      "Name      0\n",
      "Genres    0\n",
      "dtype: int64\n"
     ]
    }
   ],
   "source": [
    "valAusentes = df_anime.isnull().sum().sort_values(ascending = False)\n",
    "\n",
    "print(valAusentes)"
   ]
  },
  {
   "cell_type": "markdown",
   "metadata": {},
   "source": [
    "🔎Verificando se tem valores duplicados novo DataFrame"
   ]
  },
  {
   "cell_type": "code",
   "execution_count": 244,
   "metadata": {},
   "outputs": [
    {
     "data": {
      "text/plain": [
       "3"
      ]
     },
     "execution_count": 244,
     "metadata": {},
     "output_type": "execute_result"
    }
   ],
   "source": [
    "# Verificar se há linhas duplicadas\n",
    "df_anime.duplicated().sum()"
   ]
  },
  {
   "cell_type": "code",
   "execution_count": 245,
   "metadata": {},
   "outputs": [
    {
     "data": {
      "text/html": [
       "<div>\n",
       "<style scoped>\n",
       "    .dataframe tbody tr th:only-of-type {\n",
       "        vertical-align: middle;\n",
       "    }\n",
       "\n",
       "    .dataframe tbody tr th {\n",
       "        vertical-align: top;\n",
       "    }\n",
       "\n",
       "    .dataframe thead th {\n",
       "        text-align: right;\n",
       "    }\n",
       "</style>\n",
       "<table border=\"1\" class=\"dataframe\">\n",
       "  <thead>\n",
       "    <tr style=\"text-align: right;\">\n",
       "      <th></th>\n",
       "      <th>Score</th>\n",
       "      <th>Name</th>\n",
       "      <th>Genres</th>\n",
       "    </tr>\n",
       "  </thead>\n",
       "  <tbody>\n",
       "    <tr>\n",
       "      <th>6860</th>\n",
       "      <td>6.491</td>\n",
       "      <td>Garouden: The Way of the Lone Wolf</td>\n",
       "      <td>['Action']</td>\n",
       "    </tr>\n",
       "    <tr>\n",
       "      <th>10450</th>\n",
       "      <td>5.801</td>\n",
       "      <td>Z/X: Code Reunion</td>\n",
       "      <td>['Fantasy', 'Sci-Fi']</td>\n",
       "    </tr>\n",
       "    <tr>\n",
       "      <th>10451</th>\n",
       "      <td>5.801</td>\n",
       "      <td>Zegapain ADP</td>\n",
       "      <td>['Action', 'Romance', 'Sci-Fi']</td>\n",
       "    </tr>\n",
       "  </tbody>\n",
       "</table>\n",
       "</div>"
      ],
      "text/plain": [
       "       Score                                Name  \\\n",
       "6860   6.491  Garouden: The Way of the Lone Wolf   \n",
       "10450  5.801                   Z/X: Code Reunion   \n",
       "10451  5.801                        Zegapain ADP   \n",
       "\n",
       "                                Genres  \n",
       "6860                        ['Action']  \n",
       "10450            ['Fantasy', 'Sci-Fi']  \n",
       "10451  ['Action', 'Romance', 'Sci-Fi']  "
      ]
     },
     "execution_count": 245,
     "metadata": {},
     "output_type": "execute_result"
    }
   ],
   "source": [
    "df_anime[df_anime.duplicated()]"
   ]
  },
  {
   "cell_type": "markdown",
   "metadata": {},
   "source": [
    "# Limpeza e Tratamento dos Dados"
   ]
  },
  {
   "cell_type": "markdown",
   "metadata": {},
   "source": [
    "> 📄Como encontramos valores duplicados, precisamos trata-los"
   ]
  },
  {
   "cell_type": "code",
   "execution_count": 246,
   "metadata": {},
   "outputs": [
    {
     "data": {
      "text/plain": [
       "(15262, 3)"
      ]
     },
     "execution_count": 246,
     "metadata": {},
     "output_type": "execute_result"
    }
   ],
   "source": [
    "df_anime.shape"
   ]
  },
  {
   "cell_type": "code",
   "execution_count": 247,
   "metadata": {},
   "outputs": [],
   "source": [
    "#Removendo as duplicatas\n",
    "df_anime = df_anime.drop_duplicates()"
   ]
  },
  {
   "cell_type": "code",
   "execution_count": 248,
   "metadata": {},
   "outputs": [
    {
     "data": {
      "text/plain": [
       "0"
      ]
     },
     "execution_count": 248,
     "metadata": {},
     "output_type": "execute_result"
    }
   ],
   "source": [
    "#Verificando se as duplicatas foram removidas\n",
    "df_anime.duplicated().sum()"
   ]
  },
  {
   "cell_type": "code",
   "execution_count": 249,
   "metadata": {},
   "outputs": [
    {
     "data": {
      "text/plain": [
       "(15259, 3)"
      ]
     },
     "execution_count": 249,
     "metadata": {},
     "output_type": "execute_result"
    }
   ],
   "source": [
    "df_anime.shape"
   ]
  },
  {
   "cell_type": "markdown",
   "metadata": {},
   "source": [
    "# Análise dos Dados"
   ]
  },
  {
   "cell_type": "code",
   "execution_count": 250,
   "metadata": {},
   "outputs": [
    {
     "name": "stdout",
     "output_type": "stream",
     "text": [
      "<class 'pandas.core.frame.DataFrame'>\n",
      "Index: 15259 entries, 0 to 15261\n",
      "Data columns (total 3 columns):\n",
      " #   Column  Non-Null Count  Dtype  \n",
      "---  ------  --------------  -----  \n",
      " 0   Score   15259 non-null  float64\n",
      " 1   Name    15259 non-null  object \n",
      " 2   Genres  15259 non-null  object \n",
      "dtypes: float64(1), object(2)\n",
      "memory usage: 476.8+ KB\n"
     ]
    }
   ],
   "source": [
    "df_anime.info()"
   ]
  },
  {
   "cell_type": "code",
   "execution_count": 251,
   "metadata": {},
   "outputs": [
    {
     "data": {
      "text/html": [
       "<div>\n",
       "<style scoped>\n",
       "    .dataframe tbody tr th:only-of-type {\n",
       "        vertical-align: middle;\n",
       "    }\n",
       "\n",
       "    .dataframe tbody tr th {\n",
       "        vertical-align: top;\n",
       "    }\n",
       "\n",
       "    .dataframe thead th {\n",
       "        text-align: right;\n",
       "    }\n",
       "</style>\n",
       "<table border=\"1\" class=\"dataframe\">\n",
       "  <thead>\n",
       "    <tr style=\"text-align: right;\">\n",
       "      <th></th>\n",
       "      <th>Score</th>\n",
       "    </tr>\n",
       "  </thead>\n",
       "  <tbody>\n",
       "    <tr>\n",
       "      <th>count</th>\n",
       "      <td>15259.000000</td>\n",
       "    </tr>\n",
       "    <tr>\n",
       "      <th>mean</th>\n",
       "      <td>5.683925</td>\n",
       "    </tr>\n",
       "    <tr>\n",
       "      <th>std</th>\n",
       "      <td>2.335074</td>\n",
       "    </tr>\n",
       "    <tr>\n",
       "      <th>min</th>\n",
       "      <td>0.000000</td>\n",
       "    </tr>\n",
       "    <tr>\n",
       "      <th>25%</th>\n",
       "      <td>5.541000</td>\n",
       "    </tr>\n",
       "    <tr>\n",
       "      <th>50%</th>\n",
       "      <td>6.351000</td>\n",
       "    </tr>\n",
       "    <tr>\n",
       "      <th>75%</th>\n",
       "      <td>7.081000</td>\n",
       "    </tr>\n",
       "    <tr>\n",
       "      <th>max</th>\n",
       "      <td>9.361000</td>\n",
       "    </tr>\n",
       "  </tbody>\n",
       "</table>\n",
       "</div>"
      ],
      "text/plain": [
       "              Score\n",
       "count  15259.000000\n",
       "mean       5.683925\n",
       "std        2.335074\n",
       "min        0.000000\n",
       "25%        5.541000\n",
       "50%        6.351000\n",
       "75%        7.081000\n",
       "max        9.361000"
      ]
     },
     "execution_count": 251,
     "metadata": {},
     "output_type": "execute_result"
    }
   ],
   "source": [
    "# Estatísticas descritivas\n",
    "df_anime.describe()"
   ]
  },
  {
   "cell_type": "code",
   "execution_count": 252,
   "metadata": {},
   "outputs": [
    {
     "name": "stdout",
     "output_type": "stream",
     "text": [
      "AwardWinning     7.456\n",
      "Suspense         7.211\n",
      "Mystery          7.081\n",
      "Romance          6.901\n",
      "Supernatural     6.821\n",
      "Drama            6.821\n",
      "GirlsLove        6.786\n",
      "Gourmet          6.771\n",
      "BoysLove         6.771\n",
      "Action           6.721\n",
      "Sports           6.661\n",
      "Adventure        6.571\n",
      "Ecchi            6.531\n",
      "Sci-Fi           6.521\n",
      "Fantasy          6.516\n",
      "Comedy           6.461\n",
      "SliceofLife      6.311\n",
      "Horror           6.231\n",
      "AvantGarde       5.021\n",
      "Unknown-Genre    4.831\n",
      "dtype: float64\n"
     ]
    }
   ],
   "source": [
    "# Remover colchetes e aspas da coluna \"Genres\"\n",
    "df_anime['Genres'] = df_anime['Genres'].str.replace(r\"[\\[\\]']\", '', regex=True)\n",
    "\n",
    "# Separar os gêneros e criar dummies\n",
    "df_anime_expanded = df_anime['Genres'].str.get_dummies(sep=', ')\n",
    "\n",
    "# Concatenar com o DataFrame original\n",
    "df_anime_expanded = pd.concat([df_anime, df_anime_expanded], axis=1)\n",
    "\n",
    "# Calcular a mediana das notas por gênero\n",
    "median_generos = {}\n",
    "\n",
    "for genero in df_anime_expanded.columns[3:]:  # Gêneros começam a partir da terceira coluna\n",
    "    # Filtra apenas os animes que pertencem a esse gênero\n",
    "    median_generos[genero] = df_anime_expanded.loc[df_anime_expanded[genero] == 1, 'Score'].median()\n",
    "\n",
    "# Ordenar as medianas por valor decrescente\n",
    "median_generos = pd.Series(median_generos).sort_values(ascending=False)\n",
    "\n",
    "# Exibir as medianas\n",
    "print(median_generos)\n"
   ]
  },
  {
   "cell_type": "code",
   "execution_count": 253,
   "metadata": {},
   "outputs": [
    {
     "data": {
      "image/png": "[encoded data removed]",
      "text/plain": [
       "<Figure size 1200x600 with 1 Axes>"
      ]
     },
     "metadata": {},
     "output_type": "display_data"
    }
   ],
   "source": [
    "# Criar gráfico de barras\n",
    "plt.figure(figsize=(12, 6))  # Tamanho da figura\n",
    "median_generos.plot(kind='bar', color='skyblue')  # Tipo de gráfico e cor\n",
    "plt.title('Gênero X Score')  # Título do gráfico\n",
    "plt.xlabel('Gêneros')  # Rótulo do eixo X\n",
    "plt.ylabel('Score')  # Rótulo do eixo Y\n",
    "plt.xticks(rotation=45, ha='right')  # Rotação dos rótulos do eixo X\n",
    "plt.tight_layout()  # Ajuste automático do layout\n",
    "plt.show()  # Exibir o gráfico"
   ]
  },
  {
   "cell_type": "markdown",
   "metadata": {},
   "source": [
    "# Conclusão \n",
    "\n",
    "Com o gráfico podemos concluir que animes premiados, suspense e Mistérios são os mais populares"
   ]
  }
 ],
 "metadata": {
  "kernelspec": {
   "display_name": "base",
   "language": "python",
   "name": "python3"
  },
  "language_info": {
   "codemirror_mode": {
    "name": "ipython",
    "version": 3
   },
   "file_extension": ".py",
   "mimetype": "text/x-python",
   "name": "python",
   "nbconvert_exporter": "python",
   "pygments_lexer": "ipython3",
   "version": "3.12.4"
  }
 },
 "nbformat": 4,
 "nbformat_minor": 2
}
