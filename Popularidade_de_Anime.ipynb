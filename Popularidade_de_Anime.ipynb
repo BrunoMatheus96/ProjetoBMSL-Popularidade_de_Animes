{
 "cells": [
  {
   "cell_type": "markdown",
   "metadata": {},
   "source": [
    "# Problema de Negócio:\n",
    "\n",
    "📝Quais gêneros de animes tendem a receber notas mais altas?"
   ]
  },
  {
   "cell_type": "markdown",
   "metadata": {},
   "source": [
    "# Importando Libs"
   ]
  },
  {
   "cell_type": "code",
   "execution_count": 81,
   "metadata": {},
   "outputs": [],
   "source": [
    "import pandas as pd\n",
    "import numpy as np\n",
    "import seaborn as sns\n",
    "import matplotlib.pyplot as plt\n",
    "import re"
   ]
  },
  {
   "cell_type": "markdown",
   "metadata": {},
   "source": [
    "# Carregando Dataset"
   ]
  },
  {
   "cell_type": "code",
   "execution_count": 82,
   "metadata": {},
   "outputs": [],
   "source": [
    "anime = pd.read_csv(\"animes.csv\")\n"
   ]
  },
  {
   "cell_type": "markdown",
   "metadata": {},
   "source": [
    "# Analisando os Dados"
   ]
  },
  {
   "cell_type": "code",
   "execution_count": 83,
   "metadata": {},
   "outputs": [
    {
     "data": {
      "text/plain": [
       "(15262, 27)"
      ]
     },
     "execution_count": 83,
     "metadata": {},
     "output_type": "execute_result"
    }
   ],
   "source": [
    "anime.shape"
   ]
  },
  {
   "cell_type": "code",
   "execution_count": 84,
   "metadata": {},
   "outputs": [
    {
     "data": {
      "text/html": [
       "<div>\n",
       "<style scoped>\n",
       "    .dataframe tbody tr th:only-of-type {\n",
       "        vertical-align: middle;\n",
       "    }\n",
       "\n",
       "    .dataframe tbody tr th {\n",
       "        vertical-align: top;\n",
       "    }\n",
       "\n",
       "    .dataframe thead th {\n",
       "        text-align: right;\n",
       "    }\n",
       "</style>\n",
       "<table border=\"1\" class=\"dataframe\">\n",
       "  <thead>\n",
       "    <tr style=\"text-align: right;\">\n",
       "      <th></th>\n",
       "      <th>Japanese</th>\n",
       "      <th>Type</th>\n",
       "      <th>Episodes</th>\n",
       "      <th>Status</th>\n",
       "      <th>Aired</th>\n",
       "      <th>Premiered</th>\n",
       "      <th>Producers</th>\n",
       "      <th>Licensors</th>\n",
       "      <th>Studios</th>\n",
       "      <th>Source</th>\n",
       "      <th>...</th>\n",
       "      <th>Favorites</th>\n",
       "      <th>description</th>\n",
       "      <th>Name</th>\n",
       "      <th>English Name</th>\n",
       "      <th>Recommended</th>\n",
       "      <th>Mixed Feelings</th>\n",
       "      <th>Not Recommended</th>\n",
       "      <th>Themes</th>\n",
       "      <th>Demographics</th>\n",
       "      <th>Seasonal</th>\n",
       "    </tr>\n",
       "  </thead>\n",
       "  <tbody>\n",
       "    <tr>\n",
       "      <th>0</th>\n",
       "      <td>葬送のフリーレン</td>\n",
       "      <td>TV</td>\n",
       "      <td>28</td>\n",
       "      <td>Finished Airing</td>\n",
       "      <td>Sep 29, 2023 to Mar 22, 2024</td>\n",
       "      <td>Fall 2023</td>\n",
       "      <td>Aniplex,       Dentsu,       Shogakukan-Shueis...</td>\n",
       "      <td>None found, add some</td>\n",
       "      <td>Madhouse</td>\n",
       "      <td>Manga</td>\n",
       "      <td>...</td>\n",
       "      <td>43111</td>\n",
       "      <td>During their decade-long quest to defeat the D...</td>\n",
       "      <td>Sousou no Frieren</td>\n",
       "      <td>Frieren: Beyond Journey's End</td>\n",
       "      <td>493</td>\n",
       "      <td>67</td>\n",
       "      <td>42</td>\n",
       "      <td>['Unknown-Themes']</td>\n",
       "      <td>['Shounen']</td>\n",
       "      <td>False</td>\n",
       "    </tr>\n",
       "    <tr>\n",
       "      <th>1</th>\n",
       "      <td>鋼の錬金術師 FULLMETAL ALCHEMIST</td>\n",
       "      <td>TV</td>\n",
       "      <td>64</td>\n",
       "      <td>Finished Airing</td>\n",
       "      <td>Apr 5, 2009 to Jul 4, 2010</td>\n",
       "      <td>Spring 2009</td>\n",
       "      <td>Aniplex,       Square Enix,       Mainichi Bro...</td>\n",
       "      <td>Funimation,       Aniplex of America</td>\n",
       "      <td>Bones</td>\n",
       "      <td>Manga</td>\n",
       "      <td>...</td>\n",
       "      <td>226182</td>\n",
       "      <td>After a horrific alchemy experiment goes wrong...</td>\n",
       "      <td>Fullmetal Alchemist: Brotherhood</td>\n",
       "      <td>NaN</td>\n",
       "      <td>912</td>\n",
       "      <td>59</td>\n",
       "      <td>39</td>\n",
       "      <td>['Military']</td>\n",
       "      <td>['Shounen']</td>\n",
       "      <td>False</td>\n",
       "    </tr>\n",
       "    <tr>\n",
       "      <th>2</th>\n",
       "      <td>STEINS;GATE</td>\n",
       "      <td>TV</td>\n",
       "      <td>24</td>\n",
       "      <td>Finished Airing</td>\n",
       "      <td>Apr 6, 2011 to Sep 14, 2011</td>\n",
       "      <td>Spring 2011</td>\n",
       "      <td>Frontier Works,       Media Factory,       Kad...</td>\n",
       "      <td>Funimation</td>\n",
       "      <td>White Fox</td>\n",
       "      <td>Visual novel</td>\n",
       "      <td>...</td>\n",
       "      <td>189734</td>\n",
       "      <td>Eccentric scientist Rintarou Okabe has a never...</td>\n",
       "      <td>Steins;Gate</td>\n",
       "      <td>NaN</td>\n",
       "      <td>1006</td>\n",
       "      <td>73</td>\n",
       "      <td>73</td>\n",
       "      <td>['Psychological', 'TimeTravel']</td>\n",
       "      <td>['Unknown-Demographic']</td>\n",
       "      <td>True</td>\n",
       "    </tr>\n",
       "    <tr>\n",
       "      <th>3</th>\n",
       "      <td>銀魂°</td>\n",
       "      <td>TV</td>\n",
       "      <td>51</td>\n",
       "      <td>Finished Airing</td>\n",
       "      <td>Apr 8, 2015 to Mar 30, 2016</td>\n",
       "      <td>Spring 2015</td>\n",
       "      <td>TV Tokyo,       Aniplex,       Dentsu</td>\n",
       "      <td>Funimation,       Crunchyroll</td>\n",
       "      <td>Bandai Namco Pictures</td>\n",
       "      <td>Manga</td>\n",
       "      <td>...</td>\n",
       "      <td>16680</td>\n",
       "      <td>Gintoki, Shinpachi, and Kagura return as the f...</td>\n",
       "      <td>Gintama°</td>\n",
       "      <td>Gintama Season 4</td>\n",
       "      <td>79</td>\n",
       "      <td>3</td>\n",
       "      <td>1</td>\n",
       "      <td>['GagHumor', 'Historical', 'Parody', 'Samurai']</td>\n",
       "      <td>['Shounen']</td>\n",
       "      <td>False</td>\n",
       "    </tr>\n",
       "    <tr>\n",
       "      <th>4</th>\n",
       "      <td>進撃の巨人 Season3 Part.2</td>\n",
       "      <td>TV</td>\n",
       "      <td>10</td>\n",
       "      <td>Finished Airing</td>\n",
       "      <td>Apr 29, 2019 to Jul 1, 2019</td>\n",
       "      <td>Spring 2019</td>\n",
       "      <td>Production I.G,       Dentsu,       Mainichi B...</td>\n",
       "      <td>Funimation</td>\n",
       "      <td>Wit Studio</td>\n",
       "      <td>Manga</td>\n",
       "      <td>...</td>\n",
       "      <td>58793</td>\n",
       "      <td>Seeking to restore humanity's diminishing hope...</td>\n",
       "      <td>Shingeki no Kyojin Season 3 Part 2</td>\n",
       "      <td>Attack on Titan Season 3 Part 2</td>\n",
       "      <td>198</td>\n",
       "      <td>9</td>\n",
       "      <td>11</td>\n",
       "      <td>['Gore', 'Military', 'Survival']</td>\n",
       "      <td>['Shounen']</td>\n",
       "      <td>True</td>\n",
       "    </tr>\n",
       "  </tbody>\n",
       "</table>\n",
       "<p>5 rows × 27 columns</p>\n",
       "</div>"
      ],
      "text/plain": [
       "                     Japanese Type Episodes           Status  \\\n",
       "0                    葬送のフリーレン   TV       28  Finished Airing   \n",
       "1  鋼の錬金術師 FULLMETAL ALCHEMIST   TV       64  Finished Airing   \n",
       "2                 STEINS;GATE   TV       24  Finished Airing   \n",
       "3                         銀魂°   TV       51  Finished Airing   \n",
       "4        進撃の巨人 Season3 Part.2   TV       10  Finished Airing   \n",
       "\n",
       "                          Aired    Premiered  \\\n",
       "0  Sep 29, 2023 to Mar 22, 2024    Fall 2023   \n",
       "1    Apr 5, 2009 to Jul 4, 2010  Spring 2009   \n",
       "2   Apr 6, 2011 to Sep 14, 2011  Spring 2011   \n",
       "3   Apr 8, 2015 to Mar 30, 2016  Spring 2015   \n",
       "4   Apr 29, 2019 to Jul 1, 2019  Spring 2019   \n",
       "\n",
       "                                           Producers  \\\n",
       "0  Aniplex,       Dentsu,       Shogakukan-Shueis...   \n",
       "1  Aniplex,       Square Enix,       Mainichi Bro...   \n",
       "2  Frontier Works,       Media Factory,       Kad...   \n",
       "3              TV Tokyo,       Aniplex,       Dentsu   \n",
       "4  Production I.G,       Dentsu,       Mainichi B...   \n",
       "\n",
       "                              Licensors                Studios        Source  \\\n",
       "0                  None found, add some               Madhouse         Manga   \n",
       "1  Funimation,       Aniplex of America                  Bones         Manga   \n",
       "2                            Funimation              White Fox  Visual novel   \n",
       "3         Funimation,       Crunchyroll  Bandai Namco Pictures         Manga   \n",
       "4                            Funimation             Wit Studio         Manga   \n",
       "\n",
       "   ... Favorites                                        description  \\\n",
       "0  ...     43111  During their decade-long quest to defeat the D...   \n",
       "1  ...    226182  After a horrific alchemy experiment goes wrong...   \n",
       "2  ...    189734  Eccentric scientist Rintarou Okabe has a never...   \n",
       "3  ...     16680  Gintoki, Shinpachi, and Kagura return as the f...   \n",
       "4  ...     58793  Seeking to restore humanity's diminishing hope...   \n",
       "\n",
       "                                 Name                     English Name  \\\n",
       "0                   Sousou no Frieren    Frieren: Beyond Journey's End   \n",
       "1    Fullmetal Alchemist: Brotherhood                              NaN   \n",
       "2                         Steins;Gate                              NaN   \n",
       "3                            Gintama°                 Gintama Season 4   \n",
       "4  Shingeki no Kyojin Season 3 Part 2  Attack on Titan Season 3 Part 2   \n",
       "\n",
       "   Recommended  Mixed Feelings  Not Recommended  \\\n",
       "0          493              67               42   \n",
       "1          912              59               39   \n",
       "2         1006              73               73   \n",
       "3           79               3                1   \n",
       "4          198               9               11   \n",
       "\n",
       "                                            Themes             Demographics  \\\n",
       "0                               ['Unknown-Themes']              ['Shounen']   \n",
       "1                                     ['Military']              ['Shounen']   \n",
       "2                  ['Psychological', 'TimeTravel']  ['Unknown-Demographic']   \n",
       "3  ['GagHumor', 'Historical', 'Parody', 'Samurai']              ['Shounen']   \n",
       "4                 ['Gore', 'Military', 'Survival']              ['Shounen']   \n",
       "\n",
       "  Seasonal  \n",
       "0    False  \n",
       "1    False  \n",
       "2     True  \n",
       "3    False  \n",
       "4     True  \n",
       "\n",
       "[5 rows x 27 columns]"
      ]
     },
     "execution_count": 84,
     "metadata": {},
     "output_type": "execute_result"
    }
   ],
   "source": [
    "anime.head()"
   ]
  },
  {
   "cell_type": "code",
   "execution_count": 85,
   "metadata": {},
   "outputs": [
    {
     "name": "stdout",
     "output_type": "stream",
     "text": [
      "<class 'pandas.core.frame.DataFrame'>\n",
      "RangeIndex: 15262 entries, 0 to 15261\n",
      "Data columns (total 27 columns):\n",
      " #   Column           Non-Null Count  Dtype  \n",
      "---  ------           --------------  -----  \n",
      " 0   Japanese         15047 non-null  object \n",
      " 1   Type             15262 non-null  object \n",
      " 2   Episodes         15262 non-null  object \n",
      " 3   Status           15262 non-null  object \n",
      " 4   Aired            15262 non-null  object \n",
      " 5   Premiered        5527 non-null   object \n",
      " 6   Producers        15262 non-null  object \n",
      " 7   Licensors        15262 non-null  object \n",
      " 8   Studios          15253 non-null  object \n",
      " 9   Source           15262 non-null  object \n",
      " 10  Genres           15262 non-null  object \n",
      " 11  Duration         15262 non-null  object \n",
      " 12  Rating           15262 non-null  object \n",
      " 13  Score            15262 non-null  float64\n",
      " 14  Ranked           15262 non-null  int64  \n",
      " 15  Popularity       15262 non-null  int64  \n",
      " 16  Members          15262 non-null  int64  \n",
      " 17  Favorites        15262 non-null  int64  \n",
      " 18  description      15262 non-null  object \n",
      " 19  Name             15262 non-null  object \n",
      " 20  English Name     6840 non-null   object \n",
      " 21  Recommended      15262 non-null  int64  \n",
      " 22  Mixed Feelings   15262 non-null  int64  \n",
      " 23  Not Recommended  15262 non-null  int64  \n",
      " 24  Themes           15262 non-null  object \n",
      " 25  Demographics     15262 non-null  object \n",
      " 26  Seasonal         15262 non-null  bool   \n",
      "dtypes: bool(1), float64(1), int64(7), object(18)\n",
      "memory usage: 3.0+ MB\n"
     ]
    }
   ],
   "source": [
    "anime.info()"
   ]
  },
  {
   "cell_type": "markdown",
   "metadata": {},
   "source": [
    "🔎Dectando Valores Duplicados"
   ]
  },
  {
   "cell_type": "code",
   "execution_count": 86,
   "metadata": {},
   "outputs": [
    {
     "data": {
      "text/plain": [
       "3"
      ]
     },
     "execution_count": 86,
     "metadata": {},
     "output_type": "execute_result"
    }
   ],
   "source": [
    "# Verificar se há linhas duplicadas\n",
    "anime.duplicated().sum()"
   ]
  },
  {
   "cell_type": "markdown",
   "metadata": {},
   "source": [
    "🔎Dectando Valores Ausentes"
   ]
  },
  {
   "cell_type": "code",
   "execution_count": 87,
   "metadata": {},
   "outputs": [
    {
     "name": "stdout",
     "output_type": "stream",
     "text": [
      "Premiered          9735\n",
      "English Name       8422\n",
      "Japanese            215\n",
      "Studios               9\n",
      "Popularity            0\n",
      "Demographics          0\n",
      "Themes                0\n",
      "Not Recommended       0\n",
      "Mixed Feelings        0\n",
      "Recommended           0\n",
      "Name                  0\n",
      "description           0\n",
      "Favorites             0\n",
      "Members               0\n",
      "Score                 0\n",
      "Ranked                0\n",
      "Type                  0\n",
      "Rating                0\n",
      "Duration              0\n",
      "Genres                0\n",
      "Source                0\n",
      "Licensors             0\n",
      "Producers             0\n",
      "Aired                 0\n",
      "Status                0\n",
      "Episodes              0\n",
      "Seasonal              0\n",
      "dtype: int64\n"
     ]
    }
   ],
   "source": [
    "valAusentes = anime.isnull().sum().sort_values(ascending = False)\n",
    "\n",
    "print(valAusentes)"
   ]
  },
  {
   "cell_type": "code",
   "execution_count": 88,
   "metadata": {},
   "outputs": [
    {
     "name": "stdout",
     "output_type": "stream",
     "text": [
      "Premiered       63.785873\n",
      "English Name    55.182807\n",
      "Japanese         1.408728\n",
      "Studios          0.058970\n",
      "dtype: float64 %\n"
     ]
    }
   ],
   "source": [
    "# Calculando o percentual de valores ausentes\n",
    "valores_ausentes_percent = valAusentes[valAusentes > 0] / anime.shape[0] \n",
    "\n",
    "print(f'{valores_ausentes_percent * 100} %')"
   ]
  },
  {
   "cell_type": "markdown",
   "metadata": {},
   "source": [
    "> 📄Vamos criar um DataFrame novo e deixar apenas as colunas que precisamos"
   ]
  },
  {
   "cell_type": "code",
   "execution_count": 89,
   "metadata": {},
   "outputs": [
    {
     "data": {
      "text/html": [
       "<div>\n",
       "<style scoped>\n",
       "    .dataframe tbody tr th:only-of-type {\n",
       "        vertical-align: middle;\n",
       "    }\n",
       "\n",
       "    .dataframe tbody tr th {\n",
       "        vertical-align: top;\n",
       "    }\n",
       "\n",
       "    .dataframe thead th {\n",
       "        text-align: right;\n",
       "    }\n",
       "</style>\n",
       "<table border=\"1\" class=\"dataframe\">\n",
       "  <thead>\n",
       "    <tr style=\"text-align: right;\">\n",
       "      <th></th>\n",
       "      <th>Score</th>\n",
       "      <th>Name</th>\n",
       "      <th>Genres</th>\n",
       "    </tr>\n",
       "  </thead>\n",
       "  <tbody>\n",
       "    <tr>\n",
       "      <th>7218</th>\n",
       "      <td>6.431</td>\n",
       "      <td>Himitsu no Akko-chan</td>\n",
       "      <td>['Comedy', 'Fantasy']</td>\n",
       "    </tr>\n",
       "    <tr>\n",
       "      <th>5174</th>\n",
       "      <td>6.791</td>\n",
       "      <td>Chibi Godzilla no Gyakushuu</td>\n",
       "      <td>['Fantasy']</td>\n",
       "    </tr>\n",
       "    <tr>\n",
       "      <th>11940</th>\n",
       "      <td>5.381</td>\n",
       "      <td>Deliver Police: Nishitokyo-shi Deliver Keisats...</td>\n",
       "      <td>['Action']</td>\n",
       "    </tr>\n",
       "    <tr>\n",
       "      <th>9281</th>\n",
       "      <td>6.051</td>\n",
       "      <td>Queen's Blade OVA Specials</td>\n",
       "      <td>['Action', 'Adventure', 'Fantasy', 'Ecchi']</td>\n",
       "    </tr>\n",
       "    <tr>\n",
       "      <th>11240</th>\n",
       "      <td>5.611</td>\n",
       "      <td>Greek Roman Sinhwa: Olympus Guardian (Movie)</td>\n",
       "      <td>['Adventure', 'Fantasy']</td>\n",
       "    </tr>\n",
       "    <tr>\n",
       "      <th>14481</th>\n",
       "      <td>0.000</td>\n",
       "      <td>Xi Yangyang Yu Hui Tailang: Mama Le Fengkuang</td>\n",
       "      <td>['Adventure', 'Comedy']</td>\n",
       "    </tr>\n",
       "    <tr>\n",
       "      <th>8603</th>\n",
       "      <td>6.171</td>\n",
       "      <td>Nanami-chan 2nd Series</td>\n",
       "      <td>['Comedy']</td>\n",
       "    </tr>\n",
       "    <tr>\n",
       "      <th>2007</th>\n",
       "      <td>7.461</td>\n",
       "      <td>Mahouka Koukou no Rettousei Movie: Hoshi wo Yo...</td>\n",
       "      <td>['Action', 'Fantasy', 'Sci-Fi']</td>\n",
       "    </tr>\n",
       "    <tr>\n",
       "      <th>6644</th>\n",
       "      <td>6.521</td>\n",
       "      <td>Monster Musume no Iru Nichijou: Hobo Mainichi ...</td>\n",
       "      <td>['Comedy', 'Fantasy']</td>\n",
       "    </tr>\n",
       "    <tr>\n",
       "      <th>7233</th>\n",
       "      <td>6.421</td>\n",
       "      <td>Danchigai: Juusan Goutou Sentou Ikitai!!</td>\n",
       "      <td>['Comedy', 'SliceofLife']</td>\n",
       "    </tr>\n",
       "  </tbody>\n",
       "</table>\n",
       "</div>"
      ],
      "text/plain": [
       "       Score                                               Name  \\\n",
       "7218   6.431                               Himitsu no Akko-chan   \n",
       "5174   6.791                        Chibi Godzilla no Gyakushuu   \n",
       "11940  5.381  Deliver Police: Nishitokyo-shi Deliver Keisats...   \n",
       "9281   6.051                         Queen's Blade OVA Specials   \n",
       "11240  5.611       Greek Roman Sinhwa: Olympus Guardian (Movie)   \n",
       "14481  0.000      Xi Yangyang Yu Hui Tailang: Mama Le Fengkuang   \n",
       "8603   6.171                             Nanami-chan 2nd Series   \n",
       "2007   7.461  Mahouka Koukou no Rettousei Movie: Hoshi wo Yo...   \n",
       "6644   6.521  Monster Musume no Iru Nichijou: Hobo Mainichi ...   \n",
       "7233   6.421           Danchigai: Juusan Goutou Sentou Ikitai!!   \n",
       "\n",
       "                                            Genres  \n",
       "7218                         ['Comedy', 'Fantasy']  \n",
       "5174                                   ['Fantasy']  \n",
       "11940                                   ['Action']  \n",
       "9281   ['Action', 'Adventure', 'Fantasy', 'Ecchi']  \n",
       "11240                     ['Adventure', 'Fantasy']  \n",
       "14481                      ['Adventure', 'Comedy']  \n",
       "8603                                    ['Comedy']  \n",
       "2007               ['Action', 'Fantasy', 'Sci-Fi']  \n",
       "6644                         ['Comedy', 'Fantasy']  \n",
       "7233                     ['Comedy', 'SliceofLife']  "
      ]
     },
     "execution_count": 89,
     "metadata": {},
     "output_type": "execute_result"
    }
   ],
   "source": [
    "df_anime = anime[['Score', 'Name', 'Genres']]\n",
    "\n",
    "df_anime.sample(10)"
   ]
  },
  {
   "cell_type": "markdown",
   "metadata": {},
   "source": [
    "🔎Verificando se tem valores nulos no novo DataFrame"
   ]
  },
  {
   "cell_type": "code",
   "execution_count": 90,
   "metadata": {},
   "outputs": [
    {
     "name": "stdout",
     "output_type": "stream",
     "text": [
      "Score     0\n",
      "Name      0\n",
      "Genres    0\n",
      "dtype: int64\n"
     ]
    }
   ],
   "source": [
    "valAusentes = df_anime.isnull().sum().sort_values(ascending = False)\n",
    "\n",
    "print(valAusentes)"
   ]
  },
  {
   "cell_type": "markdown",
   "metadata": {},
   "source": [
    "🔎Verificando se tem valores duplicados novo DataFrame"
   ]
  },
  {
   "cell_type": "code",
   "execution_count": 91,
   "metadata": {},
   "outputs": [
    {
     "data": {
      "text/plain": [
       "3"
      ]
     },
     "execution_count": 91,
     "metadata": {},
     "output_type": "execute_result"
    }
   ],
   "source": [
    "# Verificar se há linhas duplicadas\n",
    "df_anime.duplicated().sum()"
   ]
  },
  {
   "cell_type": "code",
   "execution_count": 92,
   "metadata": {},
   "outputs": [
    {
     "data": {
      "text/html": [
       "<div>\n",
       "<style scoped>\n",
       "    .dataframe tbody tr th:only-of-type {\n",
       "        vertical-align: middle;\n",
       "    }\n",
       "\n",
       "    .dataframe tbody tr th {\n",
       "        vertical-align: top;\n",
       "    }\n",
       "\n",
       "    .dataframe thead th {\n",
       "        text-align: right;\n",
       "    }\n",
       "</style>\n",
       "<table border=\"1\" class=\"dataframe\">\n",
       "  <thead>\n",
       "    <tr style=\"text-align: right;\">\n",
       "      <th></th>\n",
       "      <th>Score</th>\n",
       "      <th>Name</th>\n",
       "      <th>Genres</th>\n",
       "    </tr>\n",
       "  </thead>\n",
       "  <tbody>\n",
       "    <tr>\n",
       "      <th>6860</th>\n",
       "      <td>6.491</td>\n",
       "      <td>Garouden: The Way of the Lone Wolf</td>\n",
       "      <td>['Action']</td>\n",
       "    </tr>\n",
       "    <tr>\n",
       "      <th>10450</th>\n",
       "      <td>5.801</td>\n",
       "      <td>Z/X: Code Reunion</td>\n",
       "      <td>['Fantasy', 'Sci-Fi']</td>\n",
       "    </tr>\n",
       "    <tr>\n",
       "      <th>10451</th>\n",
       "      <td>5.801</td>\n",
       "      <td>Zegapain ADP</td>\n",
       "      <td>['Action', 'Romance', 'Sci-Fi']</td>\n",
       "    </tr>\n",
       "  </tbody>\n",
       "</table>\n",
       "</div>"
      ],
      "text/plain": [
       "       Score                                Name  \\\n",
       "6860   6.491  Garouden: The Way of the Lone Wolf   \n",
       "10450  5.801                   Z/X: Code Reunion   \n",
       "10451  5.801                        Zegapain ADP   \n",
       "\n",
       "                                Genres  \n",
       "6860                        ['Action']  \n",
       "10450            ['Fantasy', 'Sci-Fi']  \n",
       "10451  ['Action', 'Romance', 'Sci-Fi']  "
      ]
     },
     "execution_count": 92,
     "metadata": {},
     "output_type": "execute_result"
    }
   ],
   "source": [
    "df_anime[df_anime.duplicated()]"
   ]
  },
  {
   "cell_type": "markdown",
   "metadata": {},
   "source": [
    "# Limpeza e Tratamento dos Dados"
   ]
  },
  {
   "cell_type": "markdown",
   "metadata": {},
   "source": [
    "> 📄Como encontramos valores duplicados, precisamos trata-los"
   ]
  },
  {
   "cell_type": "code",
   "execution_count": 93,
   "metadata": {},
   "outputs": [
    {
     "data": {
      "text/plain": [
       "(15262, 3)"
      ]
     },
     "execution_count": 93,
     "metadata": {},
     "output_type": "execute_result"
    }
   ],
   "source": [
    "df_anime.shape"
   ]
  },
  {
   "cell_type": "code",
   "execution_count": 94,
   "metadata": {},
   "outputs": [],
   "source": [
    "#Removendo as duplicatas\n",
    "df_anime = df_anime.drop_duplicates()"
   ]
  },
  {
   "cell_type": "code",
   "execution_count": 95,
   "metadata": {},
   "outputs": [
    {
     "data": {
      "text/plain": [
       "0"
      ]
     },
     "execution_count": 95,
     "metadata": {},
     "output_type": "execute_result"
    }
   ],
   "source": [
    "#Verificando se as duplicatas foram removidas\n",
    "df_anime.duplicated().sum()"
   ]
  },
  {
   "cell_type": "code",
   "execution_count": 96,
   "metadata": {},
   "outputs": [
    {
     "data": {
      "text/plain": [
       "(15259, 3)"
      ]
     },
     "execution_count": 96,
     "metadata": {},
     "output_type": "execute_result"
    }
   ],
   "source": [
    "df_anime.shape"
   ]
  },
  {
   "cell_type": "markdown",
   "metadata": {},
   "source": [
    "> 📄Agora vamos tratar a coluna de Gênero, dividindo-a para ter apenas um gênero por coluna"
   ]
  },
  {
   "cell_type": "code",
   "execution_count": 97,
   "metadata": {},
   "outputs": [
    {
     "data": {
      "text/html": [
       "<div>\n",
       "<style scoped>\n",
       "    .dataframe tbody tr th:only-of-type {\n",
       "        vertical-align: middle;\n",
       "    }\n",
       "\n",
       "    .dataframe tbody tr th {\n",
       "        vertical-align: top;\n",
       "    }\n",
       "\n",
       "    .dataframe thead th {\n",
       "        text-align: right;\n",
       "    }\n",
       "</style>\n",
       "<table border=\"1\" class=\"dataframe\">\n",
       "  <thead>\n",
       "    <tr style=\"text-align: right;\">\n",
       "      <th></th>\n",
       "      <th>Score</th>\n",
       "      <th>Name</th>\n",
       "      <th>Genres</th>\n",
       "      <th>Action</th>\n",
       "      <th>Adventure</th>\n",
       "      <th>AvantGarde</th>\n",
       "      <th>AwardWinning</th>\n",
       "      <th>BoysLove</th>\n",
       "      <th>Comedy</th>\n",
       "      <th>Drama</th>\n",
       "      <th>...</th>\n",
       "      <th>Gourmet</th>\n",
       "      <th>Horror</th>\n",
       "      <th>Mystery</th>\n",
       "      <th>Romance</th>\n",
       "      <th>Sci-Fi</th>\n",
       "      <th>SliceofLife</th>\n",
       "      <th>Sports</th>\n",
       "      <th>Supernatural</th>\n",
       "      <th>Suspense</th>\n",
       "      <th>Unknown-Genre</th>\n",
       "    </tr>\n",
       "  </thead>\n",
       "  <tbody>\n",
       "    <tr>\n",
       "      <th>0</th>\n",
       "      <td>9.361</td>\n",
       "      <td>Sousou no Frieren</td>\n",
       "      <td>Adventure, Drama, Fantasy</td>\n",
       "      <td>0</td>\n",
       "      <td>1</td>\n",
       "      <td>0</td>\n",
       "      <td>0</td>\n",
       "      <td>0</td>\n",
       "      <td>0</td>\n",
       "      <td>1</td>\n",
       "      <td>...</td>\n",
       "      <td>0</td>\n",
       "      <td>0</td>\n",
       "      <td>0</td>\n",
       "      <td>0</td>\n",
       "      <td>0</td>\n",
       "      <td>0</td>\n",
       "      <td>0</td>\n",
       "      <td>0</td>\n",
       "      <td>0</td>\n",
       "      <td>0</td>\n",
       "    </tr>\n",
       "    <tr>\n",
       "      <th>1</th>\n",
       "      <td>9.091</td>\n",
       "      <td>Fullmetal Alchemist: Brotherhood</td>\n",
       "      <td>Action, Adventure, Drama, Fantasy</td>\n",
       "      <td>1</td>\n",
       "      <td>1</td>\n",
       "      <td>0</td>\n",
       "      <td>0</td>\n",
       "      <td>0</td>\n",
       "      <td>0</td>\n",
       "      <td>1</td>\n",
       "      <td>...</td>\n",
       "      <td>0</td>\n",
       "      <td>0</td>\n",
       "      <td>0</td>\n",
       "      <td>0</td>\n",
       "      <td>0</td>\n",
       "      <td>0</td>\n",
       "      <td>0</td>\n",
       "      <td>0</td>\n",
       "      <td>0</td>\n",
       "      <td>0</td>\n",
       "    </tr>\n",
       "    <tr>\n",
       "      <th>2</th>\n",
       "      <td>9.071</td>\n",
       "      <td>Steins;Gate</td>\n",
       "      <td>Drama, Sci-Fi, Suspense</td>\n",
       "      <td>0</td>\n",
       "      <td>0</td>\n",
       "      <td>0</td>\n",
       "      <td>0</td>\n",
       "      <td>0</td>\n",
       "      <td>0</td>\n",
       "      <td>1</td>\n",
       "      <td>...</td>\n",
       "      <td>0</td>\n",
       "      <td>0</td>\n",
       "      <td>0</td>\n",
       "      <td>0</td>\n",
       "      <td>1</td>\n",
       "      <td>0</td>\n",
       "      <td>0</td>\n",
       "      <td>0</td>\n",
       "      <td>1</td>\n",
       "      <td>0</td>\n",
       "    </tr>\n",
       "    <tr>\n",
       "      <th>3</th>\n",
       "      <td>9.061</td>\n",
       "      <td>Gintama°</td>\n",
       "      <td>Action, Comedy, Sci-Fi</td>\n",
       "      <td>1</td>\n",
       "      <td>0</td>\n",
       "      <td>0</td>\n",
       "      <td>0</td>\n",
       "      <td>0</td>\n",
       "      <td>1</td>\n",
       "      <td>0</td>\n",
       "      <td>...</td>\n",
       "      <td>0</td>\n",
       "      <td>0</td>\n",
       "      <td>0</td>\n",
       "      <td>0</td>\n",
       "      <td>1</td>\n",
       "      <td>0</td>\n",
       "      <td>0</td>\n",
       "      <td>0</td>\n",
       "      <td>0</td>\n",
       "      <td>0</td>\n",
       "    </tr>\n",
       "    <tr>\n",
       "      <th>4</th>\n",
       "      <td>9.051</td>\n",
       "      <td>Shingeki no Kyojin Season 3 Part 2</td>\n",
       "      <td>Action, Drama, Suspense</td>\n",
       "      <td>1</td>\n",
       "      <td>0</td>\n",
       "      <td>0</td>\n",
       "      <td>0</td>\n",
       "      <td>0</td>\n",
       "      <td>0</td>\n",
       "      <td>1</td>\n",
       "      <td>...</td>\n",
       "      <td>0</td>\n",
       "      <td>0</td>\n",
       "      <td>0</td>\n",
       "      <td>0</td>\n",
       "      <td>0</td>\n",
       "      <td>0</td>\n",
       "      <td>0</td>\n",
       "      <td>0</td>\n",
       "      <td>1</td>\n",
       "      <td>0</td>\n",
       "    </tr>\n",
       "  </tbody>\n",
       "</table>\n",
       "<p>5 rows × 23 columns</p>\n",
       "</div>"
      ],
      "text/plain": [
       "   Score                                Name  \\\n",
       "0  9.361                   Sousou no Frieren   \n",
       "1  9.091    Fullmetal Alchemist: Brotherhood   \n",
       "2  9.071                         Steins;Gate   \n",
       "3  9.061                            Gintama°   \n",
       "4  9.051  Shingeki no Kyojin Season 3 Part 2   \n",
       "\n",
       "                              Genres  Action  Adventure  AvantGarde  \\\n",
       "0          Adventure, Drama, Fantasy       0          1           0   \n",
       "1  Action, Adventure, Drama, Fantasy       1          1           0   \n",
       "2            Drama, Sci-Fi, Suspense       0          0           0   \n",
       "3             Action, Comedy, Sci-Fi       1          0           0   \n",
       "4            Action, Drama, Suspense       1          0           0   \n",
       "\n",
       "   AwardWinning  BoysLove  Comedy  Drama  ...  Gourmet  Horror  Mystery  \\\n",
       "0             0         0       0      1  ...        0       0        0   \n",
       "1             0         0       0      1  ...        0       0        0   \n",
       "2             0         0       0      1  ...        0       0        0   \n",
       "3             0         0       1      0  ...        0       0        0   \n",
       "4             0         0       0      1  ...        0       0        0   \n",
       "\n",
       "   Romance  Sci-Fi  SliceofLife  Sports  Supernatural  Suspense  Unknown-Genre  \n",
       "0        0       0            0       0             0         0              0  \n",
       "1        0       0            0       0             0         0              0  \n",
       "2        0       1            0       0             0         1              0  \n",
       "3        0       1            0       0             0         0              0  \n",
       "4        0       0            0       0             0         1              0  \n",
       "\n",
       "[5 rows x 23 columns]"
      ]
     },
     "execution_count": 97,
     "metadata": {},
     "output_type": "execute_result"
    }
   ],
   "source": [
    "# Remover os colchetes e aspas da coluna 'Genres'\n",
    "df_anime['Genres'] = df_anime['Genres'].str.strip(\"[]\").str.replace(\"'\", \"\")\n",
    "\n",
    "# Dividir os gêneros em várias colunas binárias\n",
    "generos_expandido = df_anime['Genres'].str.get_dummies(sep=', ')\n",
    "\n",
    "# Concatenar o dataframe df_anime com as novas colunas\n",
    "df_anime_expanded = pd.concat([df_anime, generos_expandido], axis=1)\n",
    "\n",
    "# Exibir o resultado\n",
    "df_anime_expanded.head()"
   ]
  }
 ],
 "metadata": {
  "kernelspec": {
   "display_name": "base",
   "language": "python",
   "name": "python3"
  },
  "language_info": {
   "codemirror_mode": {
    "name": "ipython",
    "version": 3
   },
   "file_extension": ".py",
   "mimetype": "text/x-python",
   "name": "python",
   "nbconvert_exporter": "python",
   "pygments_lexer": "ipython3",
   "version": "3.12.4"
  }
 },
 "nbformat": 4,
 "nbformat_minor": 2
}
